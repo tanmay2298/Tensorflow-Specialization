{
  "nbformat": 4,
  "nbformat_minor": 0,
  "metadata": {
    "colab": {
      "name": "Transfer Learning.ipynb",
      "version": "0.3.2",
      "provenance": [],
      "collapsed_sections": []
    },
    "kernelspec": {
      "display_name": "Python 2",
      "name": "python2"
    },
    "accelerator": "GPU"
  },
  "cells": [
    {
      "cell_type": "code",
      "metadata": {
        "colab_type": "code",
        "id": "1xJZ5glPPCRz",
        "outputId": "b240b68b-51ff-44be-c294-11b47ff9ed45",
        "colab": {
          "base_uri": "https://localhost:8080/",
          "height": 315
        }
      },
      "source": [
        "import os\n",
        "\n",
        "from tensorflow.keras import layers\n",
        "from tensorflow.keras import Model\n",
        "!wget --no-check-certificate \\\n",
        "    https://storage.googleapis.com/mledu-datasets/inception_v3_weights_tf_dim_ordering_tf_kernels_notop.h5 \\\n",
        "    -O /tmp/inception_v3_weights_tf_dim_ordering_tf_kernels_notop.h5\n",
        "  \n",
        "from tensorflow.keras.applications.inception_v3 import InceptionV3\n",
        "\n",
        "local_weights_file = '/tmp/inception_v3_weights_tf_dim_ordering_tf_kernels_notop.h5'\n",
        "\n",
        "pre_trained_model = InceptionV3(input_shape = (150, 150, 3), \n",
        "                                include_top = False, \n",
        "                                weights = None)\n",
        "\n",
        "pre_trained_model.load_weights(local_weights_file)\n",
        "\n",
        "for layer in pre_trained_model.layers:\n",
        "  layer.trainable = False\n",
        "  \n",
        "# pre_trained_model.summary()\n",
        "\n",
        "last_layer = pre_trained_model.get_layer('mixed7')\n",
        "print('last layer output shape: ', last_layer.output_shape)\n",
        "last_output = last_layer.output"
      ],
      "execution_count": 1,
      "outputs": [
        {
          "output_type": "stream",
          "text": [
            "--2019-05-19 21:40:10--  https://storage.googleapis.com/mledu-datasets/inception_v3_weights_tf_dim_ordering_tf_kernels_notop.h5\n",
            "Resolving storage.googleapis.com (storage.googleapis.com)... 74.125.24.128, 2404:6800:4003:c04::80\n",
            "Connecting to storage.googleapis.com (storage.googleapis.com)|74.125.24.128|:443... connected.\n",
            "HTTP request sent, awaiting response... 200 OK\n",
            "Length: 87910968 (84M) [application/x-hdf]\n",
            "Saving to: ‘/tmp/inception_v3_weights_tf_dim_ordering_tf_kernels_notop.h5’\n",
            "\n",
            "/tmp/inception_v3_w 100%[===================>]  83.84M  43.9MB/s    in 1.9s    \n",
            "\n",
            "2019-05-19 21:40:17 (43.9 MB/s) - ‘/tmp/inception_v3_weights_tf_dim_ordering_tf_kernels_notop.h5’ saved [87910968/87910968]\n",
            "\n",
            "WARNING:tensorflow:From /usr/local/lib/python2.7/dist-packages/tensorflow/python/ops/resource_variable_ops.py:435: colocate_with (from tensorflow.python.framework.ops) is deprecated and will be removed in a future version.\n",
            "Instructions for updating:\n",
            "Colocations handled automatically by placer.\n",
            "('last layer output shape: ', (None, 7, 7, 768))\n"
          ],
          "name": "stdout"
        }
      ]
    },
    {
      "cell_type": "code",
      "metadata": {
        "colab_type": "code",
        "id": "BMXb913pbvFg",
        "colab": {
          "base_uri": "https://localhost:8080/",
          "height": 128
        },
        "outputId": "2dff7c2e-33b6-439c-8b05-b8f1fec663ac"
      },
      "source": [
        "from tensorflow.keras.optimizers import RMSprop\n",
        "\n",
        "# Flatten the output layer to 1 dimension\n",
        "x = layers.Flatten()(last_output)\n",
        "# Add a fully connected layer with 1,024 hidden units and ReLU activation\n",
        "x = layers.Dense(1024, activation='relu')(x)\n",
        "# Add a dropout rate of 0.2\n",
        "x = layers.Dropout(0.2)(x)                  \n",
        "# Add a final sigmoid layer for classification\n",
        "x = layers.Dense  (1, activation='sigmoid')(x)           \n",
        "\n",
        "model = Model( pre_trained_model.input, x) \n",
        "\n",
        "model.compile(optimizer = RMSprop(lr=0.0001), \n",
        "              loss = 'binary_crossentropy', \n",
        "              metrics = ['acc'])\n"
      ],
      "execution_count": 2,
      "outputs": [
        {
          "output_type": "stream",
          "text": [
            "WARNING:tensorflow:From /usr/local/lib/python2.7/dist-packages/tensorflow/python/keras/layers/core.py:143: calling dropout (from tensorflow.python.ops.nn_ops) with keep_prob is deprecated and will be removed in a future version.\n",
            "Instructions for updating:\n",
            "Please use `rate` instead of `keep_prob`. Rate should be set to `rate = 1 - keep_prob`.\n"
          ],
          "name": "stdout"
        }
      ]
    },
    {
      "cell_type": "code",
      "metadata": {
        "colab_type": "code",
        "id": "O4s8HckqGlnb",
        "outputId": "9a00ea8e-0636-4376-d820-3d8003f7a8b3",
        "colab": {
          "base_uri": "https://localhost:8080/",
          "height": 238
        }
      },
      "source": [
        "!wget --no-check-certificate \\\n",
        "        https://storage.googleapis.com/mledu-datasets/cats_and_dogs_filtered.zip \\\n",
        "       -O /tmp/cats_and_dogs_filtered.zip\n",
        "\n",
        "from tensorflow.keras.preprocessing.image import ImageDataGenerator\n",
        "\n",
        "import os\n",
        "import zipfile\n",
        "\n",
        "local_zip = '//tmp/cats_and_dogs_filtered.zip'\n",
        "\n",
        "zip_ref = zipfile.ZipFile(local_zip, 'r')\n",
        "\n",
        "zip_ref.extractall('/tmp')\n",
        "zip_ref.close()\n",
        "\n",
        "# Define our example directories and files\n",
        "base_dir = '/tmp/cats_and_dogs_filtered'\n",
        "\n",
        "train_dir = os.path.join( base_dir, 'train')\n",
        "validation_dir = os.path.join( base_dir, 'validation')\n",
        "\n",
        "\n",
        "train_cats_dir = os.path.join(train_dir, 'cats') # Directory with our training cat pictures\n",
        "train_dogs_dir = os.path.join(train_dir, 'dogs') # Directory with our training dog pictures\n",
        "validation_cats_dir = os.path.join(validation_dir, 'cats') # Directory with our validation cat pictures\n",
        "validation_dogs_dir = os.path.join(validation_dir, 'dogs')# Directory with our validation dog pictures\n",
        "\n",
        "train_cat_fnames = os.listdir(train_cats_dir)\n",
        "train_dog_fnames = os.listdir(train_dogs_dir)\n",
        "\n",
        "# Add our data-augmentation parameters to ImageDataGenerator\n",
        "train_datagen = ImageDataGenerator(rescale = 1./255.,\n",
        "                                   rotation_range = 40,\n",
        "                                   width_shift_range = 0.2,\n",
        "                                   height_shift_range = 0.2,\n",
        "                                   shear_range = 0.2,\n",
        "                                   zoom_range = 0.2,\n",
        "                                   horizontal_flip = True)\n",
        "\n",
        "# Note that the validation data should not be augmented!\n",
        "test_datagen = ImageDataGenerator( rescale = 1.0/255. )\n",
        "\n",
        "# Flow training images in batches of 20 using train_datagen generator\n",
        "train_generator = train_datagen.flow_from_directory(train_dir,\n",
        "                                                    batch_size = 20,\n",
        "                                                    class_mode = 'binary', \n",
        "                                                    target_size = (150, 150))     \n",
        "\n",
        "# Flow validation images in batches of 20 using test_datagen generator\n",
        "validation_generator =  test_datagen.flow_from_directory( validation_dir,\n",
        "                                                          batch_size  = 20,\n",
        "                                                          class_mode  = 'binary', \n",
        "                                                          target_size = (150, 150))"
      ],
      "execution_count": 3,
      "outputs": [
        {
          "output_type": "stream",
          "text": [
            "--2019-05-19 21:40:37--  https://storage.googleapis.com/mledu-datasets/cats_and_dogs_filtered.zip\n",
            "Resolving storage.googleapis.com (storage.googleapis.com)... 74.125.24.128, 2404:6800:4003:c04::80\n",
            "Connecting to storage.googleapis.com (storage.googleapis.com)|74.125.24.128|:443... connected.\n",
            "HTTP request sent, awaiting response... 200 OK\n",
            "Length: 68606236 (65M) [application/zip]\n",
            "Saving to: ‘/tmp/cats_and_dogs_filtered.zip’\n",
            "\n",
            "\r          /tmp/cats   0%[                    ]       0  --.-KB/s               \r         /tmp/cats_   6%[>                   ]   4.01M  13.7MB/s               \r        /tmp/cats_a  48%[========>           ]  32.01M  55.9MB/s               \r       /tmp/cats_an  99%[==================> ]  65.02M  84.1MB/s               \r/tmp/cats_and_dogs_ 100%[===================>]  65.43M  84.5MB/s    in 0.8s    \n",
            "\n",
            "2019-05-19 21:40:38 (84.5 MB/s) - ‘/tmp/cats_and_dogs_filtered.zip’ saved [68606236/68606236]\n",
            "\n",
            "Found 2000 images belonging to 2 classes.\n",
            "Found 1000 images belonging to 2 classes.\n"
          ],
          "name": "stdout"
        }
      ]
    },
    {
      "cell_type": "code",
      "metadata": {
        "colab_type": "code",
        "id": "Blhq2MAUeyGA",
        "outputId": "cb675c37-8146-4aa3-81fe-67945156f91e",
        "colab": {
          "base_uri": "https://localhost:8080/",
          "height": 1108
        }
      },
      "source": [
        "history = model.fit_generator(\n",
        "            train_generator,\n",
        "            validation_data = validation_generator,\n",
        "            steps_per_epoch = 100,\n",
        "            epochs = 20,\n",
        "            validation_steps = 50,\n",
        "            verbose = 2)"
      ],
      "execution_count": 4,
      "outputs": [
        {
          "output_type": "stream",
          "text": [
            "WARNING:tensorflow:From /usr/local/lib/python2.7/dist-packages/tensorflow/python/ops/math_ops.py:3066: to_int32 (from tensorflow.python.ops.math_ops) is deprecated and will be removed in a future version.\n",
            "Instructions for updating:\n",
            "Use tf.cast instead.\n",
            "Epoch 1/20\n",
            "50/50 [==============================] - 5s 101ms/step - loss: 0.4061 - acc: 0.8910\n",
            " - 24s - loss: 0.5242 - acc: 0.7550 - val_loss: 0.4061 - val_acc: 0.8910\n",
            "Epoch 2/20\n",
            "50/50 [==============================] - 5s 95ms/step - loss: 0.2939 - acc: 0.9350\n",
            " - 20s - loss: 0.3795 - acc: 0.8345 - val_loss: 0.2939 - val_acc: 0.9350\n",
            "Epoch 3/20\n",
            "50/50 [==============================] - 5s 95ms/step - loss: 0.6523 - acc: 0.8920\n",
            " - 19s - loss: 0.3436 - acc: 0.8475 - val_loss: 0.6523 - val_acc: 0.8920\n",
            "Epoch 4/20\n",
            "50/50 [==============================] - 5s 96ms/step - loss: 0.4270 - acc: 0.9190\n",
            " - 20s - loss: 0.3621 - acc: 0.8505 - val_loss: 0.4270 - val_acc: 0.9190\n",
            "Epoch 5/20\n",
            "50/50 [==============================] - 5s 95ms/step - loss: 0.4042 - acc: 0.9380\n",
            " - 19s - loss: 0.2913 - acc: 0.8715 - val_loss: 0.4042 - val_acc: 0.9380\n",
            "Epoch 6/20\n",
            "50/50 [==============================] - 5s 93ms/step - loss: 0.3326 - acc: 0.9500\n",
            " - 19s - loss: 0.3174 - acc: 0.8695 - val_loss: 0.3326 - val_acc: 0.9500\n",
            "Epoch 7/20\n",
            "50/50 [==============================] - 5s 96ms/step - loss: 0.3016 - acc: 0.9450\n",
            " - 19s - loss: 0.3041 - acc: 0.8795 - val_loss: 0.3016 - val_acc: 0.9450\n",
            "Epoch 8/20\n",
            "50/50 [==============================] - 5s 103ms/step - loss: 0.3412 - acc: 0.9450\n",
            " - 20s - loss: 0.2955 - acc: 0.8765 - val_loss: 0.3412 - val_acc: 0.9450\n",
            "Epoch 9/20\n",
            "50/50 [==============================] - 5s 99ms/step - loss: 0.5477 - acc: 0.9280\n",
            " - 20s - loss: 0.3083 - acc: 0.8835 - val_loss: 0.5477 - val_acc: 0.9280\n",
            "Epoch 10/20\n",
            "50/50 [==============================] - 5s 95ms/step - loss: 0.4226 - acc: 0.9370\n",
            " - 19s - loss: 0.2845 - acc: 0.8815 - val_loss: 0.4226 - val_acc: 0.9370\n",
            "Epoch 11/20\n",
            "50/50 [==============================] - 5s 94ms/step - loss: 0.2971 - acc: 0.9590\n",
            " - 19s - loss: 0.2608 - acc: 0.8865 - val_loss: 0.2971 - val_acc: 0.9590\n",
            "Epoch 12/20\n",
            "50/50 [==============================] - 5s 105ms/step - loss: 0.2692 - acc: 0.9590\n",
            " - 20s - loss: 0.2939 - acc: 0.8820 - val_loss: 0.2692 - val_acc: 0.9590\n",
            "Epoch 13/20\n",
            "50/50 [==============================] - 5s 94ms/step - loss: 0.2730 - acc: 0.9590\n",
            " - 19s - loss: 0.2667 - acc: 0.8960 - val_loss: 0.2730 - val_acc: 0.9590\n",
            "Epoch 14/20\n",
            "50/50 [==============================] - 5s 95ms/step - loss: 0.3160 - acc: 0.9520\n",
            " - 19s - loss: 0.2772 - acc: 0.8845 - val_loss: 0.3160 - val_acc: 0.9520\n",
            "Epoch 15/20\n",
            "50/50 [==============================] - 5s 95ms/step - loss: 0.4101 - acc: 0.9480\n",
            " - 19s - loss: 0.2695 - acc: 0.8940 - val_loss: 0.4101 - val_acc: 0.9480\n",
            "Epoch 16/20\n",
            "50/50 [==============================] - 5s 107ms/step - loss: 0.3834 - acc: 0.9480\n",
            " - 20s - loss: 0.2636 - acc: 0.8875 - val_loss: 0.3834 - val_acc: 0.9480\n",
            "Epoch 17/20\n",
            "50/50 [==============================] - 5s 104ms/step - loss: 0.3304 - acc: 0.9570\n",
            " - 20s - loss: 0.2633 - acc: 0.8890 - val_loss: 0.3304 - val_acc: 0.9570\n",
            "Epoch 18/20\n",
            "50/50 [==============================] - 5s 93ms/step - loss: 0.3984 - acc: 0.9490\n",
            " - 19s - loss: 0.2432 - acc: 0.9010 - val_loss: 0.3984 - val_acc: 0.9490\n",
            "Epoch 19/20\n",
            "50/50 [==============================] - 5s 95ms/step - loss: 0.3211 - acc: 0.9580\n",
            " - 19s - loss: 0.2409 - acc: 0.9100 - val_loss: 0.3211 - val_acc: 0.9580\n",
            "Epoch 20/20\n",
            "50/50 [==============================] - 5s 103ms/step - loss: 0.3214 - acc: 0.9590\n",
            " - 20s - loss: 0.2646 - acc: 0.8905 - val_loss: 0.3214 - val_acc: 0.9590\n"
          ],
          "name": "stdout"
        }
      ]
    },
    {
      "cell_type": "code",
      "metadata": {
        "id": "C2Fp6Se9rKuL",
        "colab_type": "code",
        "outputId": "111d81cc-f162-4c93-eaf4-64a81f86b5e9",
        "colab": {
          "base_uri": "https://localhost:8080/",
          "height": 298
        }
      },
      "source": [
        "import matplotlib.pyplot as plt\n",
        "acc = history.history['acc']\n",
        "val_acc = history.history['val_acc']\n",
        "loss = history.history['loss']\n",
        "val_loss = history.history['val_loss']\n",
        "\n",
        "epochs = range(len(acc))\n",
        "\n",
        "plt.plot(epochs, acc, 'r', label='Training accuracy')\n",
        "plt.plot(epochs, val_acc, 'b', label='Validation accuracy')\n",
        "plt.title('Training and validation accuracy')\n",
        "plt.legend(loc=0)\n",
        "plt.figure()\n",
        "\n",
        "\n",
        "plt.show()"
      ],
      "execution_count": 5,
      "outputs": [
        {
          "output_type": "display_data",
          "data": {
            "image/png": "[encoded data removed]",
            "text/plain": [
              "<Figure size 432x288 with 1 Axes>"
            ]
          },
          "metadata": {
            "tags": []
          }
        },
        {
          "output_type": "display_data",
          "data": {
            "text/plain": [
              "<Figure size 432x288 with 0 Axes>"
            ]
          },
          "metadata": {
            "tags": []
          }
        }
      ]
    },
    {
      "cell_type": "code",
      "metadata": {
        "id": "ghPO-zmdDk7F",
        "colab_type": "code",
        "colab": {}
      },
      "source": [
        ""
      ],
      "execution_count": 0,
      "outputs": []
    }
  ]
}