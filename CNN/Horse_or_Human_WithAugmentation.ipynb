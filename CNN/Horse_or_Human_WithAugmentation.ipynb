{
  "nbformat": 4,
  "nbformat_minor": 0,
  "metadata": {
    "colab": {
      "name": "Horse-or-Human-WithAugmentation.ipynb",
      "version": "0.3.2",
      "provenance": [],
      "collapsed_sections": [],
      "toc_visible": true
    },
    "kernelspec": {
      "name": "python3",
      "display_name": "Python 3"
    },
    "accelerator": "GPU"
  },
  "cells": [
    {
      "cell_type": "code",
      "metadata": {
        "colab_type": "code",
        "id": "RXZT2UsyIVe_",
        "colab": {
          "base_uri": "https://localhost:8080/",
          "height": 431
        },
        "outputId": "ad021152-4850-47e9-f106-dfff5e4efdbf"
      },
      "source": [
        "!wget --no-check-certificate \\\n",
        "    https://storage.googleapis.com/laurencemoroney-blog.appspot.com/horse-or-human.zip \\\n",
        "    -O /tmp/horse-or-human.zip\n",
        "\n",
        "!wget --no-check-certificate \\\n",
        "    https://storage.googleapis.com/laurencemoroney-blog.appspot.com/validation-horse-or-human.zip \\\n",
        "    -O /tmp/validation-horse-or-human.zip\n",
        "  \n",
        "import os\n",
        "import zipfile\n",
        "\n",
        "local_zip = '/tmp/horse-or-human.zip'\n",
        "zip_ref = zipfile.ZipFile(local_zip, 'r')\n",
        "zip_ref.extractall('/tmp/horse-or-human')\n",
        "local_zip = '/tmp/validation-horse-or-human.zip'\n",
        "zip_ref = zipfile.ZipFile(local_zip, 'r')\n",
        "zip_ref.extractall('/tmp/validation-horse-or-human')\n",
        "zip_ref.close()\n",
        "# Directory with our training horse pictures\n",
        "train_horse_dir = os.path.join('/tmp/horse-or-human/horses')\n",
        "\n",
        "# Directory with our training human pictures\n",
        "train_human_dir = os.path.join('/tmp/horse-or-human/humans')\n",
        "\n",
        "# Directory with our training horse pictures\n",
        "validation_horse_dir = os.path.join('/tmp/validation-horse-or-human/horses')\n",
        "\n",
        "# Directory with our training human pictures\n",
        "validation_human_dir = os.path.join('/tmp/validation-horse-or-human/humans')"
      ],
      "execution_count": 1,
      "outputs": [
        {
          "output_type": "stream",
          "text": [
            "--2019-05-19 18:51:30--  https://storage.googleapis.com/laurencemoroney-blog.appspot.com/horse-or-human.zip\n",
            "Resolving storage.googleapis.com (storage.googleapis.com)... 74.125.195.128, 2607:f8b0:400e:c09::80\n",
            "Connecting to storage.googleapis.com (storage.googleapis.com)|74.125.195.128|:443... connected.\n",
            "HTTP request sent, awaiting response... 200 OK\n",
            "Length: 149574867 (143M) [application/zip]\n",
            "Saving to: ‘/tmp/horse-or-human.zip’\n",
            "\n",
            "/tmp/horse-or-human 100%[===================>] 142.65M  53.4MB/s    in 2.7s    \n",
            "\n",
            "2019-05-19 18:51:33 (53.4 MB/s) - ‘/tmp/horse-or-human.zip’ saved [149574867/149574867]\n",
            "\n",
            "--2019-05-19 18:51:34--  https://storage.googleapis.com/laurencemoroney-blog.appspot.com/validation-horse-or-human.zip\n",
            "Resolving storage.googleapis.com (storage.googleapis.com)... 74.125.195.128, 2607:f8b0:400e:c09::80\n",
            "Connecting to storage.googleapis.com (storage.googleapis.com)|74.125.195.128|:443... connected.\n",
            "HTTP request sent, awaiting response... 200 OK\n",
            "Length: 11480187 (11M) [application/zip]\n",
            "Saving to: ‘/tmp/validation-horse-or-human.zip’\n",
            "\n",
            "/tmp/validation-hor 100%[===================>]  10.95M  56.3MB/s    in 0.2s    \n",
            "\n",
            "2019-05-19 18:51:34 (56.3 MB/s) - ‘/tmp/validation-horse-or-human.zip’ saved [11480187/11480187]\n",
            "\n"
          ],
          "name": "stdout"
        }
      ]
    },
    {
      "cell_type": "markdown",
      "metadata": {
        "colab_type": "text",
        "id": "5oqBkNBJmtUv"
      },
      "source": [
        "## Building a Small Model from Scratch\n",
        "\n",
        "But before we continue, let's start defining the model:\n",
        "\n",
        "Step 1 will be to import tensorflow."
      ]
    },
    {
      "cell_type": "code",
      "metadata": {
        "id": "qvfZg3LQbD-5",
        "colab_type": "code",
        "colab": {}
      },
      "source": [
        "import tensorflow as tf"
      ],
      "execution_count": 0,
      "outputs": []
    },
    {
      "cell_type": "markdown",
      "metadata": {
        "colab_type": "text",
        "id": "BnhYCP4tdqjC"
      },
      "source": [
        "We then add convolutional layers as in the previous example, and flatten the final result to feed into the densely connected layers."
      ]
    },
    {
      "cell_type": "markdown",
      "metadata": {
        "id": "gokG5HKpdtzm",
        "colab_type": "text"
      },
      "source": [
        "Finally we add the densely connected layers. \n",
        "\n",
        "Note that because we are facing a two-class classification problem, i.e. a *binary classification problem*, we will end our network with a [*sigmoid* activation](https://wikipedia.org/wiki/Sigmoid_function), so that the output of our network will be a single scalar between 0 and 1, encoding the probability that the current image is class 1 (as opposed to class 0)."
      ]
    },
    {
      "cell_type": "code",
      "metadata": {
        "id": "PixZ2s5QbYQ3",
        "colab_type": "code",
        "colab": {
          "base_uri": "https://localhost:8080/",
          "height": 108
        },
        "outputId": "bd5dad96-eaaf-4e09-b373-8a2a81d63ef0"
      },
      "source": [
        "model = tf.keras.models.Sequential([\n",
        "    # Note the input shape is the desired size of the image 300x300 with 3 bytes color\n",
        "    # This is the first convolution\n",
        "    tf.keras.layers.Conv2D(16, (3,3), activation='relu', input_shape=(300, 300, 3)),\n",
        "    tf.keras.layers.MaxPooling2D(2, 2),\n",
        "    # The second convolution\n",
        "    tf.keras.layers.Conv2D(32, (3,3), activation='relu'),\n",
        "    tf.keras.layers.MaxPooling2D(2,2),\n",
        "    # The third convolution\n",
        "    tf.keras.layers.Conv2D(64, (3,3), activation='relu'),\n",
        "    tf.keras.layers.MaxPooling2D(2,2),\n",
        "    # The fourth convolution\n",
        "    tf.keras.layers.Conv2D(64, (3,3), activation='relu'),\n",
        "    tf.keras.layers.MaxPooling2D(2,2),\n",
        "    # The fifth convolution\n",
        "    tf.keras.layers.Conv2D(64, (3,3), activation='relu'),\n",
        "    tf.keras.layers.MaxPooling2D(2,2),\n",
        "    # Flatten the results to feed into a DNN\n",
        "    tf.keras.layers.Flatten(),\n",
        "    # 512 neuron hidden layer\n",
        "    tf.keras.layers.Dense(512, activation='relu'),\n",
        "    # Only 1 output neuron. It will contain a value from 0-1 where 0 for 1 class ('horses') and 1 for the other ('humans')\n",
        "    tf.keras.layers.Dense(1, activation='sigmoid')\n",
        "])"
      ],
      "execution_count": 3,
      "outputs": [
        {
          "output_type": "stream",
          "text": [
            "WARNING:tensorflow:From /usr/local/lib/python3.6/dist-packages/tensorflow/python/ops/resource_variable_ops.py:435: colocate_with (from tensorflow.python.framework.ops) is deprecated and will be removed in a future version.\n",
            "Instructions for updating:\n",
            "Colocations handled automatically by placer.\n"
          ],
          "name": "stdout"
        }
      ]
    },
    {
      "cell_type": "code",
      "metadata": {
        "colab_type": "code",
        "id": "8DHWhFP_uhq3",
        "colab": {}
      },
      "source": [
        "from tensorflow.keras.optimizers import RMSprop\n",
        "\n",
        "model.compile(loss='binary_crossentropy',\n",
        "              optimizer=RMSprop(lr=1e-4),\n",
        "              metrics=['acc'])"
      ],
      "execution_count": 0,
      "outputs": []
    },
    {
      "cell_type": "code",
      "metadata": {
        "colab_type": "code",
        "id": "ClebU9NJg99G",
        "colab": {
          "base_uri": "https://localhost:8080/",
          "height": 51
        },
        "outputId": "c73837e2-9d11-40e6-c85f-f5c730af48f8"
      },
      "source": [
        "from tensorflow.keras.preprocessing.image import ImageDataGenerator\n",
        "\n",
        "# All images will be rescaled by 1./255\n",
        "train_datagen = ImageDataGenerator(\n",
        "      rescale=1./255,\n",
        "      rotation_range=40,\n",
        "      width_shift_range=0.2,\n",
        "      height_shift_range=0.2,\n",
        "      shear_range=0.2,\n",
        "      zoom_range=0.2,\n",
        "      horizontal_flip=True,\n",
        "      fill_mode='nearest')\n",
        "\n",
        "validation_datagen = ImageDataGenerator(rescale=1/255)\n",
        "\n",
        "# Flow training images in batches of 128 using train_datagen generator\n",
        "train_generator = train_datagen.flow_from_directory(\n",
        "        '/tmp/horse-or-human/',  # This is the source directory for training images\n",
        "        target_size=(300, 300),  # All images will be resized to 150x150\n",
        "        batch_size=128,\n",
        "        # Since we use binary_crossentropy loss, we need binary labels\n",
        "        class_mode='binary')\n",
        "\n",
        "# Flow training images in batches of 128 using train_datagen generator\n",
        "validation_generator = validation_datagen.flow_from_directory(\n",
        "        '/tmp/validation-horse-or-human/',  # This is the source directory for training images\n",
        "        target_size=(300, 300),  # All images will be resized to 150x150\n",
        "        batch_size=32,\n",
        "        # Since we use binary_crossentropy loss, we need binary labels\n",
        "        class_mode='binary')"
      ],
      "execution_count": 5,
      "outputs": [
        {
          "output_type": "stream",
          "text": [
            "Found 1027 images belonging to 2 classes.\n",
            "Found 256 images belonging to 2 classes.\n"
          ],
          "name": "stdout"
        }
      ]
    },
    {
      "cell_type": "code",
      "metadata": {
        "colab_type": "code",
        "id": "Fb1_lgobv81m",
        "colab": {
          "base_uri": "https://localhost:8080/",
          "height": 1873
        },
        "outputId": "e2d4040c-4da4-45a0-993f-75f52b4d61c4"
      },
      "source": [
        "history = model.fit_generator(\n",
        "      train_generator,\n",
        "      steps_per_epoch=8,  \n",
        "      epochs=100,\n",
        "      verbose=1,\n",
        "      validation_data = validation_generator,\n",
        "      validation_steps=8)"
      ],
      "execution_count": 0,
      "outputs": [
        {
          "output_type": "stream",
          "text": [
            "WARNING:tensorflow:From /usr/local/lib/python3.6/dist-packages/tensorflow/python/ops/math_ops.py:3066: to_int32 (from tensorflow.python.ops.math_ops) is deprecated and will be removed in a future version.\n",
            "Instructions for updating:\n",
            "Use tf.cast instead.\n",
            "Epoch 1/100\n",
            "8/8 [==============================] - 2s 191ms/step - loss: 0.6443 - acc: 0.7383\n",
            "9/9 [==============================] - 25s 3s/step - loss: 0.6876 - acc: 0.5258 - val_loss: 0.6443 - val_acc: 0.7383\n",
            "Epoch 2/100\n",
            "8/8 [==============================] - 1s 176ms/step - loss: 0.6869 - acc: 0.5000\n",
            "9/9 [==============================] - 24s 3s/step - loss: 0.6749 - acc: 0.5881 - val_loss: 0.6869 - val_acc: 0.5000\n",
            "Epoch 3/100\n",
            "8/8 [==============================] - 1s 176ms/step - loss: 0.6538 - acc: 0.5117\n",
            "9/9 [==============================] - 23s 3s/step - loss: 0.6672 - acc: 0.5881 - val_loss: 0.6538 - val_acc: 0.5117\n",
            "Epoch 4/100\n",
            "8/8 [==============================] - 1s 181ms/step - loss: 0.5561 - acc: 0.9375\n",
            "9/9 [==============================] - 23s 3s/step - loss: 0.6525 - acc: 0.5910 - val_loss: 0.5561 - val_acc: 0.9375\n",
            "Epoch 5/100\n",
            "8/8 [==============================] - 2s 201ms/step - loss: 0.5243 - acc: 0.8125\n",
            "9/9 [==============================] - 23s 3s/step - loss: 0.6488 - acc: 0.6602 - val_loss: 0.5243 - val_acc: 0.8125\n",
            "Epoch 6/100\n",
            "8/8 [==============================] - 1s 175ms/step - loss: 0.5999 - acc: 0.5977\n",
            "9/9 [==============================] - 24s 3s/step - loss: 0.5984 - acc: 0.7390 - val_loss: 0.5999 - val_acc: 0.5977\n",
            "Epoch 7/100\n",
            "8/8 [==============================] - 1s 169ms/step - loss: 1.0088 - acc: 0.5039\n",
            "9/9 [==============================] - 23s 3s/step - loss: 0.6036 - acc: 0.7332 - val_loss: 1.0088 - val_acc: 0.5039\n",
            "Epoch 8/100\n",
            "8/8 [==============================] - 1s 177ms/step - loss: 0.5064 - acc: 0.7461\n",
            "9/9 [==============================] - 23s 3s/step - loss: 0.5486 - acc: 0.7439 - val_loss: 0.5064 - val_acc: 0.7461\n",
            "Epoch 9/100\n",
            "8/8 [==============================] - 1s 182ms/step - loss: 0.5296 - acc: 0.7422\n",
            "9/9 [==============================] - 24s 3s/step - loss: 0.5227 - acc: 0.7429 - val_loss: 0.5296 - val_acc: 0.7422\n",
            "Epoch 10/100\n",
            "8/8 [==============================] - 1s 179ms/step - loss: 0.5938 - acc: 0.6914\n",
            "9/9 [==============================] - 23s 3s/step - loss: 0.5442 - acc: 0.7157 - val_loss: 0.5938 - val_acc: 0.6914\n",
            "Epoch 11/100\n",
            "8/8 [==============================] - 1s 180ms/step - loss: 0.7182 - acc: 0.6641\n",
            "9/9 [==============================] - 23s 3s/step - loss: 0.4760 - acc: 0.7848 - val_loss: 0.7182 - val_acc: 0.6641\n",
            "Epoch 12/100\n",
            "8/8 [==============================] - 2s 198ms/step - loss: 1.0664 - acc: 0.5742\n",
            "9/9 [==============================] - 23s 3s/step - loss: 0.4953 - acc: 0.7468 - val_loss: 1.0664 - val_acc: 0.5742\n",
            "Epoch 13/100\n",
            "8/8 [==============================] - 2s 200ms/step - loss: 0.7826 - acc: 0.6562\n",
            "9/9 [==============================] - 23s 3s/step - loss: 0.4335 - acc: 0.7575 - val_loss: 0.7826 - val_acc: 0.6562\n",
            "Epoch 14/100\n",
            "8/8 [==============================] - 1s 176ms/step - loss: 0.9771 - acc: 0.6328\n",
            "9/9 [==============================] - 24s 3s/step - loss: 0.4790 - acc: 0.7848 - val_loss: 0.9771 - val_acc: 0.6328\n",
            "Epoch 15/100\n",
            "8/8 [==============================] - 1s 175ms/step - loss: 0.9569 - acc: 0.6328\n",
            "9/9 [==============================] - 22s 2s/step - loss: 0.5241 - acc: 0.7614 - val_loss: 0.9569 - val_acc: 0.6328\n",
            "Epoch 16/100\n",
            "8/8 [==============================] - 1s 175ms/step - loss: 0.7727 - acc: 0.7070\n",
            "9/9 [==============================] - 24s 3s/step - loss: 0.4295 - acc: 0.8014 - val_loss: 0.7727 - val_acc: 0.7070\n",
            "Epoch 17/100\n",
            "8/8 [==============================] - 1s 175ms/step - loss: 1.0550 - acc: 0.6367\n",
            "9/9 [==============================] - 23s 3s/step - loss: 0.4501 - acc: 0.7848 - val_loss: 1.0550 - val_acc: 0.6367\n",
            "Epoch 18/100\n",
            "8/8 [==============================] - 1s 173ms/step - loss: 0.8991 - acc: 0.6719\n",
            "9/9 [==============================] - 23s 3s/step - loss: 0.4314 - acc: 0.8169 - val_loss: 0.8991 - val_acc: 0.6719\n",
            "Epoch 19/100\n",
            "8/8 [==============================] - 2s 200ms/step - loss: 0.9217 - acc: 0.6562\n",
            "9/9 [==============================] - 23s 3s/step - loss: 0.5799 - acc: 0.7595 - val_loss: 0.9217 - val_acc: 0.6562\n",
            "Epoch 20/100\n",
            "8/8 [==============================] - 1s 173ms/step - loss: 0.9498 - acc: 0.6523\n",
            "9/9 [==============================] - 23s 3s/step - loss: 0.4203 - acc: 0.8053 - val_loss: 0.9498 - val_acc: 0.6523\n",
            "Epoch 21/100\n",
            "8/8 [==============================] - 1s 177ms/step - loss: 1.2554 - acc: 0.6289\n",
            "9/9 [==============================] - 23s 3s/step - loss: 0.3949 - acc: 0.8062 - val_loss: 1.2554 - val_acc: 0.6289\n",
            "Epoch 22/100\n",
            "8/8 [==============================] - 1s 174ms/step - loss: 0.7880 - acc: 0.7227\n",
            "9/9 [==============================] - 22s 2s/step - loss: 0.3549 - acc: 0.8189 - val_loss: 0.7880 - val_acc: 0.7227\n",
            "Epoch 23/100\n",
            "8/8 [==============================] - 1s 180ms/step - loss: 1.5210 - acc: 0.5898\n",
            "9/9 [==============================] - 24s 3s/step - loss: 0.4150 - acc: 0.8043 - val_loss: 1.5210 - val_acc: 0.5898\n",
            "Epoch 24/100\n",
            "8/8 [==============================] - 1s 176ms/step - loss: 1.2928 - acc: 0.6328\n",
            "9/9 [==============================] - 22s 2s/step - loss: 0.3709 - acc: 0.8325 - val_loss: 1.2928 - val_acc: 0.6328\n",
            "Epoch 25/100\n",
            "8/8 [==============================] - 1s 177ms/step - loss: 1.3524 - acc: 0.6250\n",
            "9/9 [==============================] - 22s 2s/step - loss: 0.3602 - acc: 0.8111 - val_loss: 1.3524 - val_acc: 0.6250\n",
            "Epoch 26/100\n",
            "8/8 [==============================] - 2s 205ms/step - loss: 1.0482 - acc: 0.7109\n",
            "9/9 [==============================] - 24s 3s/step - loss: 0.3272 - acc: 0.8627 - val_loss: 1.0482 - val_acc: 0.7109\n",
            "Epoch 27/100\n",
            "8/8 [==============================] - 1s 174ms/step - loss: 0.8916 - acc: 0.7266\n",
            "9/9 [==============================] - 25s 3s/step - loss: 0.3419 - acc: 0.8277 - val_loss: 0.8916 - val_acc: 0.7266\n",
            "Epoch 28/100\n",
            "8/8 [==============================] - 1s 175ms/step - loss: 1.0488 - acc: 0.6680\n",
            "9/9 [==============================] - 22s 2s/step - loss: 0.5046 - acc: 0.8228 - val_loss: 1.0488 - val_acc: 0.6680\n",
            "Epoch 29/100\n",
            "8/8 [==============================] - 1s 177ms/step - loss: 1.7375 - acc: 0.5898\n",
            "9/9 [==============================] - 22s 2s/step - loss: 0.3117 - acc: 0.8578 - val_loss: 1.7375 - val_acc: 0.5898\n",
            "Epoch 30/100\n",
            "8/8 [==============================] - 1s 178ms/step - loss: 1.3942 - acc: 0.6484\n",
            "9/9 [==============================] - 24s 3s/step - loss: 0.3407 - acc: 0.8520 - val_loss: 1.3942 - val_acc: 0.6484\n",
            "Epoch 31/100\n",
            "8/8 [==============================] - 1s 173ms/step - loss: 1.2084 - acc: 0.6680\n",
            "9/9 [==============================] - 22s 2s/step - loss: 0.3255 - acc: 0.8510 - val_loss: 1.2084 - val_acc: 0.6680\n",
            "Epoch 32/100\n",
            "8/8 [==============================] - 1s 172ms/step - loss: 0.9404 - acc: 0.7266\n",
            "9/9 [==============================] - 22s 2s/step - loss: 0.2906 - acc: 0.8578 - val_loss: 0.9404 - val_acc: 0.7266\n",
            "Epoch 33/100\n",
            "8/8 [==============================] - 2s 200ms/step - loss: 1.2689 - acc: 0.6758\n",
            "9/9 [==============================] - 23s 3s/step - loss: 0.3109 - acc: 0.8539 - val_loss: 1.2689 - val_acc: 0.6758\n",
            "Epoch 34/100\n",
            "8/8 [==============================] - 1s 176ms/step - loss: 1.5330 - acc: 0.6445\n",
            "9/9 [==============================] - 23s 3s/step - loss: 0.3372 - acc: 0.8403 - val_loss: 1.5330 - val_acc: 0.6445\n",
            "Epoch 35/100\n",
            "8/8 [==============================] - 1s 175ms/step - loss: 1.0384 - acc: 0.7148\n",
            "9/9 [==============================] - 22s 2s/step - loss: 0.3159 - acc: 0.8559 - val_loss: 1.0384 - val_acc: 0.7148\n"
          ],
          "name": "stdout"
        }
      ]
    },
    {
      "cell_type": "code",
      "metadata": {
        "id": "7zNPRWOVJdOH",
        "colab_type": "code",
        "colab": {}
      },
      "source": [
        "import matplotlib.pyplot as plt\n",
        "acc = history.history['acc']\n",
        "val_acc = history.history['val_acc']\n",
        "loss = history.history['loss']\n",
        "val_loss = history.history['val_loss']\n",
        "\n",
        "epochs = range(len(acc))\n",
        "\n",
        "plt.plot(epochs, acc, 'r', label='Training accuracy')\n",
        "plt.plot(epochs, val_acc, 'b', label='Validation accuracy')\n",
        "plt.title('Training and validation accuracy')\n",
        "\n",
        "plt.figure()\n",
        "\n",
        "plt.plot(epochs, loss, 'r', label='Training Loss')\n",
        "plt.plot(epochs, val_loss, 'b', label='Validation Loss')\n",
        "plt.title('Training and validation loss')\n",
        "plt.legend()\n",
        "\n",
        "plt.show()"
      ],
      "execution_count": 0,
      "outputs": []
    },
    {
      "cell_type": "code",
      "metadata": {
        "id": "CElSJ0A8b5QE",
        "colab_type": "code",
        "colab": {}
      },
      "source": [
        ""
      ],
      "execution_count": 0,
      "outputs": []
    }
  ]
}