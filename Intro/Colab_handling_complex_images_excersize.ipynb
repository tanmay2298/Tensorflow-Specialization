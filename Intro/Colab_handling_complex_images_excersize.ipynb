{
  "nbformat": 4,
  "nbformat_minor": 0,
  "metadata": {
    "colab": {
      "name": "Exercise4-Question.ipynb",
      "version": "0.3.2",
      "provenance": []
    },
    "kernelspec": {
      "name": "python3",
      "display_name": "Python 3"
    }
  },
  "cells": [
    {
      "cell_type": "markdown",
      "metadata": {
        "id": "UncprnB0ymAE",
        "colab_type": "text"
      },
      "source": [
        "Below is code with a link to a happy or sad dataset which contains 80 images, 40 happy and 40 sad. \n",
        "Create a convolutional neural network that trains to 100% accuracy on these images,  which cancels training upon hitting training accuracy of >.999\n",
        "\n",
        "Hint -- it will work best with 3 convolutional layers."
      ]
    },
    {
      "cell_type": "code",
      "metadata": {
        "id": "7Vti6p3PxmpS",
        "colab_type": "code",
        "colab": {
          "base_uri": "https://localhost:8080/",
          "height": 233
        },
        "outputId": "06898223-7f72-49ae-c23b-316ef2369418"
      },
      "source": [
        "import tensorflow as tf\n",
        "import os\n",
        "import zipfile\n",
        "from tensorflow import keras\n",
        "\n",
        "DESIRED_ACCURACY = 0.999\n",
        "\n",
        "!wget --no-check-certificate \\\n",
        "    \"https://storage.googleapis.com/laurencemoroney-blog.appspot.com/happy-or-sad.zip\" \\\n",
        "    -O \"/tmp/happy-or-sad.zip\"\n",
        "\n",
        "zip_ref = zipfile.ZipFile(\"/tmp/happy-or-sad.zip\", 'r')\n",
        "zip_ref.extractall(\"/tmp/h-or-s\")\n",
        "zip_ref.close()\n",
        "\n",
        "# class myCallback(# Your Code):\n",
        "  # Your Code\n",
        "\n",
        "# callbacks = myCallback()"
      ],
      "execution_count": 4,
      "outputs": [
        {
          "output_type": "stream",
          "text": [
            "--2019-05-12 20:54:29--  https://storage.googleapis.com/laurencemoroney-blog.appspot.com/happy-or-sad.zip\n",
            "Resolving storage.googleapis.com (storage.googleapis.com)... 74.125.20.128, 2607:f8b0:400e:c07::80\n",
            "Connecting to storage.googleapis.com (storage.googleapis.com)|74.125.20.128|:443... connected.\n",
            "HTTP request sent, awaiting response... 200 OK\n",
            "Length: 2670333 (2.5M) [application/zip]\n",
            "Saving to: ‘/tmp/happy-or-sad.zip’\n",
            "\n",
            "\r/tmp/happy-or-sad.z   0%[                    ]       0  --.-KB/s               \r/tmp/happy-or-sad.z 100%[===================>]   2.55M  --.-KB/s    in 0.02s   \n",
            "\n",
            "2019-05-12 20:54:29 (145 MB/s) - ‘/tmp/happy-or-sad.zip’ saved [2670333/2670333]\n",
            "\n"
          ],
          "name": "stdout"
        }
      ]
    },
    {
      "cell_type": "code",
      "metadata": {
        "id": "6DLGbXXI1j_V",
        "colab_type": "code",
        "colab": {}
      },
      "source": [
        "# This Code Block should Define and Compile the Model\n",
        "model = tf.keras.models.Sequential([\n",
        "keras.layers.Conv2D(16, (3, 3), activation = 'relu', input_shape = (150, 150, 3)),\n",
        "\tkeras.layers.MaxPooling2D(2, 2),\n",
        "\tkeras.layers.Conv2D(32, (3, 3), activation = 'relu'),\n",
        "\tkeras.layers.MaxPooling2D(2, 2),\n",
        "\tkeras.layers.Conv2D(64, (3, 3), activation = 'relu'),\n",
        "\tkeras.layers.MaxPooling2D(2, 2),\n",
        "\tkeras.layers.Flatten(),\n",
        "\tkeras.layers.Dense(512, activation = 'relu'),\n",
        "\tkeras.layers.Dense(1, activation = 'sigmoid')\n",
        "])\n",
        "\n",
        "from tensorflow.keras.optimizers import RMSprop\n",
        "\n",
        "model.compile(loss = 'binary_crossentropy',\n",
        "\toptimizer = RMSprop(lr = 0.001),\n",
        "\tmetrics = ['acc'])"
      ],
      "execution_count": 0,
      "outputs": []
    },
    {
      "cell_type": "code",
      "metadata": {
        "id": "4Ap9fUJE1vVu",
        "colab_type": "code",
        "colab": {
          "base_uri": "https://localhost:8080/",
          "height": 34
        },
        "outputId": "c2086d66-dff2-4624-8d2f-66a40f895585"
      },
      "source": [
        "# This code block should create an instance of an ImageDataGenerator called train_datagen \n",
        "# And a train_generator by calling train_datagen.flow_from_directory\n",
        "\n",
        "from tensorflow.keras.preprocessing.image import ImageDataGenerator\n",
        "train_dir = os.path.join('/tmp/h-or-s')\n",
        "train_datagen = ImageDataGenerator(rescale = 1./255)# Your Code Here\n",
        "\n",
        "train_generator = train_datagen.flow_from_directory(\n",
        "    train_dir,\n",
        "\ttarget_size = (150, 150),\n",
        "\tbatch_size = 10,\n",
        "\tclass_mode = 'binary')\n",
        "        # Your Code Here)\n",
        "\n",
        "# Expected output: 'Found 80 images belonging to 2 classes'"
      ],
      "execution_count": 24,
      "outputs": [
        {
          "output_type": "stream",
          "text": [
            "Found 80 images belonging to 2 classes.\n"
          ],
          "name": "stdout"
        }
      ]
    },
    {
      "cell_type": "code",
      "metadata": {
        "id": "48dLm13U1-Le",
        "colab_type": "code",
        "colab": {
          "base_uri": "https://localhost:8080/",
          "height": 527
        },
        "outputId": "a7ba2ae9-a2b4-4f8c-f478-aeddef944c0f"
      },
      "source": [
        "# This code block should call model.fit_generator and train for\n",
        "# a number of epochs. \n",
        "history = model.fit_generator(\n",
        "    train_generator,\n",
        "\tsteps_per_epoch = 2,\n",
        "\tepochs = 15,\n",
        "\tverbose = 1)\n",
        "      # Your Code Here)\n",
        "    \n",
        "# Expected output: \"Reached 99.9% accuracy so cancelling training!\"\""
      ],
      "execution_count": 25,
      "outputs": [
        {
          "output_type": "stream",
          "text": [
            "Epoch 1/15\n",
            "8/8 [==============================] - 3s 420ms/step - loss: 1.2330 - acc: 0.6375\n",
            "Epoch 2/15\n",
            "8/8 [==============================] - 3s 405ms/step - loss: 0.3162 - acc: 0.8875\n",
            "Epoch 3/15\n",
            "8/8 [==============================] - 3s 402ms/step - loss: 0.1608 - acc: 0.9500\n",
            "Epoch 4/15\n",
            "8/8 [==============================] - 3s 393ms/step - loss: 0.0797 - acc: 0.9625\n",
            "Epoch 5/15\n",
            "8/8 [==============================] - 3s 401ms/step - loss: 0.0241 - acc: 0.9875\n",
            "Epoch 6/15\n",
            "8/8 [==============================] - 3s 405ms/step - loss: 0.0071 - acc: 1.0000\n",
            "Epoch 7/15\n",
            "8/8 [==============================] - 3s 400ms/step - loss: 0.0160 - acc: 1.0000\n",
            "Epoch 8/15\n",
            "8/8 [==============================] - 3s 419ms/step - loss: 0.0028 - acc: 1.0000\n",
            "Epoch 9/15\n",
            "8/8 [==============================] - 3s 407ms/step - loss: 0.1959 - acc: 0.9500\n",
            "Epoch 10/15\n",
            "8/8 [==============================] - 3s 411ms/step - loss: 0.0021 - acc: 1.0000\n",
            "Epoch 11/15\n",
            "8/8 [==============================] - 3s 418ms/step - loss: 9.3891e-04 - acc: 1.0000\n",
            "Epoch 12/15\n",
            "8/8 [==============================] - 3s 410ms/step - loss: 5.7941e-04 - acc: 1.0000\n",
            "Epoch 13/15\n",
            "8/8 [==============================] - 3s 402ms/step - loss: 3.3775e-04 - acc: 1.0000\n",
            "Epoch 14/15\n",
            "8/8 [==============================] - 3s 404ms/step - loss: 4.7656e-04 - acc: 1.0000\n",
            "Epoch 15/15\n",
            "8/8 [==============================] - 3s 406ms/step - loss: 1.8542e-04 - acc: 1.0000\n"
          ],
          "name": "stdout"
        }
      ]
    },
    {
      "cell_type": "code",
      "metadata": {
        "id": "20sR8lJS1kme",
        "colab_type": "code",
        "colab": {}
      },
      "source": [
        "# Note to self : Accuracy is reaching 1.0 which implies that data is being overfit\n",
        "# This is why the callback function is needed which basically stops this"
      ],
      "execution_count": 0,
      "outputs": []
    },
    {
      "cell_type": "code",
      "metadata": {
        "id": "LPM-3QYJ25tS",
        "colab_type": "code",
        "colab": {}
      },
      "source": [
        ""
      ],
      "execution_count": 0,
      "outputs": []
    }
  ]
}