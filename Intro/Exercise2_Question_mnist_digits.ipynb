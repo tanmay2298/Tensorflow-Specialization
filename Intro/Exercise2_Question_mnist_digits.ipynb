{
  "nbformat": 4,
  "nbformat_minor": 0,
  "metadata": {
    "colab": {
      "name": "Exercise2-Question.ipynb",
      "version": "0.3.2",
      "provenance": [],
      "collapsed_sections": []
    },
    "kernelspec": {
      "name": "python3",
      "display_name": "Python 3"
    },
    "accelerator": "TPU"
  },
  "cells": [
    {
      "cell_type": "markdown",
      "metadata": {
        "id": "tOoyQ70H00_s",
        "colab_type": "text"
      },
      "source": [
        "## Exercise 2\n",
        "In the course you learned how to do classification using Fashion MNIST, a data set containing items of clothing. There's another, similar dataset called MNIST which has items of handwriting -- the digits 0 through 9.\n",
        "\n",
        "Write an MNIST classifier that trains to 99% accuracy or above, and does it without a fixed number of epochs -- i.e. you should stop training once you reach that level of accuracy.\n",
        "\n",
        "Some notes:\n",
        "1. It should succeed in less than 10 epochs, so it is okay to change epochs to 10, but nothing larger\n",
        "2. When it reaches 99% or greater it should print out the string \"Reached 99% accuracy so cancelling training!\"\n",
        "3. If you add any additional variables, make sure you use the same names as the ones used in the class\n",
        "\n",
        "I've started the code for you below -- how would you finish it? "
      ]
    },
    {
      "cell_type": "code",
      "metadata": {
        "id": "9rvXQGAA0ssC",
        "colab_type": "code",
        "colab": {
          "base_uri": "https://localhost:8080/",
          "height": 136
        },
        "outputId": "b4c2a07b-edda-4079-c7a2-a5bf795005d5"
      },
      "source": [
        "# YOUR CODE SHOULD START HERE\n",
        "# YOUR CODE SHOULD END HERE\n",
        "import tensorflow as tf\n",
        "mnist = tf.keras.datasets.mnist\n",
        "\n",
        "class myCallback(tf.keras.callbacks.Callback):\n",
        "  def on_epoch_end(self, epoch, logs={}):\n",
        "    if(logs.get('acc')>0.99):\n",
        "      print(\"\\nReached 60% accuracy so cancelling training!\")\n",
        "      self.model.stop_training = True\n",
        "\n",
        "callbacks = myCallback()\n",
        "\n",
        "(x_train, y_train),(x_test, y_test) = mnist.load_data()\n",
        "# YOUR CODE SHOULD START HERE\n",
        "print(x_train.shape)\n",
        "x_train = x_train / 255.0\n",
        "y_train = y_train / 255.0\n",
        "# YOUR CODE SHOULD END HERE\n",
        "model = tf.keras.models.Sequential([\n",
        "# YOUR CODE SHOULD START HERE\n",
        "    tf.keras.layers.Flatten(input_shape = [28, 28]),\n",
        "    tf.keras.layers.Dense(1024, activation = tf.nn.relu),\n",
        "    tf.keras.layers.Dense(512, activation = tf.nn.relu),\n",
        "    tf.keras.layers.Dense(256, activation = tf.nn.relu),\n",
        "    tf.keras.layers.Dense(10, activation = tf.nn.softmax)\n",
        "# YOUR CODE SHOULD END HERE\n",
        "])\n",
        "\n",
        "model.compile(optimizer='adam',\n",
        "              loss='sparse_categorical_crossentropy',\n",
        "              metrics=['accuracy'])\n",
        "\n",
        "# YOUR CODE SHOULD START HERE\n",
        "model.fit(x_train, y_train, epochs = 10, callbacks = [callbacks] )\n",
        "model.evaluate(x_test, y_test)\n",
        "# YOUR CODE SHOULD END HERE"
      ],
      "execution_count": 4,
      "outputs": [
        {
          "output_type": "stream",
          "text": [
            "(60000, 28, 28)\n",
            "Epoch 1/10\n",
            "59968/60000 [============================>.] - ETA: 0s - loss: 0.0017 - acc: 0.9995\n",
            "Reached 60% accuracy so cancelling training!\n",
            "60000/60000 [==============================] - 54s 898us/sample - loss: 0.0017 - acc: 0.9995\n",
            "10000/10000 [==============================] - 2s 173us/sample - loss: 14.5385 - acc: 0.0980\n"
          ],
          "name": "stdout"
        },
        {
          "output_type": "execute_result",
          "data": {
            "text/plain": [
              "[14.538521841430665, 0.098]"
            ]
          },
          "metadata": {
            "tags": []
          },
          "execution_count": 4
        }
      ]
    },
    {
      "cell_type": "code",
      "metadata": {
        "id": "PoX7FVGerwEU",
        "colab_type": "code",
        "colab": {}
      },
      "source": [
        ""
      ],
      "execution_count": 0,
      "outputs": []
    }
  ]
}